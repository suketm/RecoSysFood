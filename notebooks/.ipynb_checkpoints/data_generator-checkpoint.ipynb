{
 "cells": [
  {
   "cell_type": "markdown",
   "metadata": {},
   "source": [
    "# Data Generator\n",
    "\n",
    "This notebook creates random data for DBS customers and Capital Land mall outlets.\n",
    "\n",
    "Generated Data:\n",
    "- dbs.csv: identity details (full name, email ID), transaction details at Capital Land Mall (outlet and mall name)\n",
    "- capital_land.csv: mall name and outlet name\n",
    "  \n",
    "Assumptions:\n",
    "- Size of Data: \n",
    "    - DBS: 100,000\n",
    "    - individuals: 5,000\n",
    "    - shops: 50\n",
    "- Capital Land has 5 malls\n",
    "- Each mall has 18 to 20 shops - (random)\n",
    "\n",
    "Steps:\n",
    "- Import libraries & environment\n",
    "- Setup config file\n",
    "- Define constants\n",
    "- Complete Process: All stages are processed sequentially"
   ]
  },
  {
   "cell_type": "markdown",
   "metadata": {},
   "source": [
    "Import libraries & environment"
   ]
  },
  {
   "cell_type": "code",
   "execution_count": 1,
   "metadata": {},
   "outputs": [],
   "source": [
    "import random as r\n",
    "import pandas as pd\n",
    "import names\n",
    "import yaml\n",
    "import os\n",
    "\n",
    "# load external libraries\n",
    "\n",
    "current_directory = os.getcwd()\n",
    "os.chdir('../src/utils')\n",
    "\n",
    "import data_generator_functions as F\n",
    "\n",
    "os.chdir(current_directory)"
   ]
  },
  {
   "cell_type": "markdown",
   "metadata": {},
   "source": [
    "Setup config file"
   ]
  },
  {
   "cell_type": "code",
   "execution_count": 5,
   "metadata": {},
   "outputs": [],
   "source": [
    "with open('..\\\\config\\\\config.yml', 'r', encoding='utf-8') as yml:\n",
    "    config = yaml.load(yml, Loader=yaml.SafeLoader)"
   ]
  },
  {
   "cell_type": "markdown",
   "metadata": {},
   "source": [
    "Define constants"
   ]
  },
  {
   "cell_type": "code",
   "execution_count": 6,
   "metadata": {},
   "outputs": [
    {
     "ename": "KeyError",
     "evalue": "'n_malls'",
     "output_type": "error",
     "traceback": [
      "\u001b[1;31m---------------------------------------------------------------------------\u001b[0m",
      "\u001b[1;31mKeyError\u001b[0m                                  Traceback (most recent call last)",
      "\u001b[1;32m<ipython-input-6-7c7d6f225caa>\u001b[0m in \u001b[0;36m<module>\u001b[1;34m\u001b[0m\n\u001b[0;32m      3\u001b[0m \u001b[0mn_dbs\u001b[0m \u001b[1;33m=\u001b[0m \u001b[0mconfig\u001b[0m\u001b[1;33m[\u001b[0m\u001b[1;34m'Data Generator'\u001b[0m\u001b[1;33m]\u001b[0m\u001b[1;33m[\u001b[0m\u001b[1;34m'n_dbs'\u001b[0m\u001b[1;33m]\u001b[0m\u001b[1;33m\u001b[0m\u001b[0m\n\u001b[0;32m      4\u001b[0m \u001b[0mn_ind\u001b[0m \u001b[1;33m=\u001b[0m \u001b[0mconfig\u001b[0m\u001b[1;33m[\u001b[0m\u001b[1;34m'Data Generator'\u001b[0m\u001b[1;33m]\u001b[0m\u001b[1;33m[\u001b[0m\u001b[1;34m'n_ind'\u001b[0m\u001b[1;33m]\u001b[0m\u001b[1;33m\u001b[0m\u001b[0m\n\u001b[1;32m----> 5\u001b[1;33m \u001b[0mn_malls\u001b[0m \u001b[1;33m=\u001b[0m \u001b[0mconfig\u001b[0m\u001b[1;33m[\u001b[0m\u001b[1;34m'Data Generator'\u001b[0m\u001b[1;33m]\u001b[0m\u001b[1;33m[\u001b[0m\u001b[1;34m'n_malls'\u001b[0m\u001b[1;33m]\u001b[0m\u001b[1;33m\u001b[0m\u001b[0m\n\u001b[0m\u001b[0;32m      6\u001b[0m \u001b[0mn_shops\u001b[0m \u001b[1;33m=\u001b[0m \u001b[0mconfig\u001b[0m\u001b[1;33m[\u001b[0m\u001b[1;34m'Data Generator'\u001b[0m\u001b[1;33m]\u001b[0m\u001b[1;33m[\u001b[0m\u001b[1;34m'n_shops'\u001b[0m\u001b[1;33m]\u001b[0m\u001b[1;33m\u001b[0m\u001b[0m\n\u001b[0;32m      7\u001b[0m \u001b[0mn_shopsPerMallLow\u001b[0m \u001b[1;33m=\u001b[0m \u001b[0mconfig\u001b[0m\u001b[1;33m[\u001b[0m\u001b[1;34m'Data Generator'\u001b[0m\u001b[1;33m]\u001b[0m\u001b[1;33m[\u001b[0m\u001b[1;34m'n_shops_per_mall_low'\u001b[0m\u001b[1;33m]\u001b[0m\u001b[1;33m\u001b[0m\u001b[0m\n",
      "\u001b[1;31mKeyError\u001b[0m: 'n_malls'"
     ]
    }
   ],
   "source": [
    "# constants\n",
    "\n",
    "n_dbs = config['Data Generator']['n_dbs']\n",
    "n_ind = config['Data Generator']['n_ind']\n",
    "n_shopsPerMallLow = config['Data Generator']['n_shops_per_mall_low']\n",
    "n_shopsPerMallHigh = config['Data Generator']['n_shops_per_mall_high']\n",
    "ls_shopName = config['Data Generator']['ls_shopName']\n",
    "ls_mallName = config['Data Generator']['ls_mallName']\n",
    "\n",
    "# seeds\n",
    "\n",
    "seed_firstName = 101\n",
    "seed_lastName = 102\n",
    "seed_shopPerMall = None # otherwise fixed number of shops in each mall\n",
    "seed_shopInMall = None  # otherwise same shops in each mall"
   ]
  },
  {
   "cell_type": "markdown",
   "metadata": {},
   "source": [
    "Complete Process"
   ]
  },
  {
   "cell_type": "code",
   "execution_count": 4,
   "metadata": {},
   "outputs": [
    {
     "name": "stdout",
     "output_type": "stream",
     "text": [
      "5494 88799\n"
     ]
    },
    {
     "data": {
      "text/plain": [
       "'\\n# shop data\\nF.shop_data(shop_name, mall_name, capital_land, \\n            seed_shop_in_mall, seed_shop_per_mall, \\n            n_malls, n_shops_per_mall_low,n_shops_per_mall_high)\\n\\n# select individuals, in this case we are selecting 5000 individuals for 100,000 transactions\\nfirst_name, last_name, email = F.select_individuals(data_first_name , data_last_name,\\n                                                    seed_first_name, seed_last_name,\\n                                                    n_dbs, n_ind)\\n\\n# generates DBS transaction for selected individuals\\ntransaction_outlet, transaction_mall = F.transaction_data(mall_name, capital_land, n_dbs, n_malls, n_shops)\\n\\n# convert data in data frame\\ndf_dbs, df_capital_land = F.fill_data(first_name, last_name, email, transaction_outlet, transaction_mall, capital_land) # fills data frames'"
      ]
     },
     "execution_count": 4,
     "metadata": {},
     "output_type": "execute_result"
    }
   ],
   "source": [
    "# individual data\n",
    "# module name.FILES is the dictionary with file locations of the random names\n",
    "ls_firstName , ls_lastName = F.individual_data(dict_name_files = names.FILES)\n",
    "\n",
    "# shop data\n",
    "F.shop_data(shop_name, mall_name, capital_land, \n",
    "            seed_shop_in_mall, seed_shop_per_mall, \n",
    "            n_malls, n_shops_per_mall_low,n_shops_per_mall_high)\n",
    "\n",
    "# select individuals, in this case we are selecting 5000 individuals for 100,000 transactions\n",
    "first_name, last_name, email = F.select_individuals(data_first_name , data_last_name,\n",
    "                                                    seed_first_name, seed_last_name,\n",
    "                                                    n_dbs, n_ind)\n",
    "\n",
    "# generates DBS transaction for selected individuals\n",
    "transaction_outlet, transaction_mall = F.transaction_data(mall_name, capital_land, n_dbs, n_malls, n_shops)\n",
    "\n",
    "# convert data in data frame\n",
    "df_dbs, df_capital_land = F.fill_data(first_name, last_name, email, transaction_outlet, transaction_mall, capital_land) # fills data frames\n"
   ]
  },
  {
   "cell_type": "code",
   "execution_count": null,
   "metadata": {},
   "outputs": [],
   "source": [
    "#df_dbs.to_csv('..\\\\data\\\\'+config['File_Transaction'], index = False)\n",
    "#df_capital_land.to_csv('..\\\\data\\\\'+config['File_Mall'], index = False)"
   ]
  }
 ],
 "metadata": {
  "kernelspec": {
   "display_name": "Python 3",
   "language": "python",
   "name": "python3"
  },
  "language_info": {
   "codemirror_mode": {
    "name": "ipython",
    "version": 3
   },
   "file_extension": ".py",
   "mimetype": "text/x-python",
   "name": "python",
   "nbconvert_exporter": "python",
   "pygments_lexer": "ipython3",
   "version": "3.6.2"
  }
 },
 "nbformat": 4,
 "nbformat_minor": 2
}
