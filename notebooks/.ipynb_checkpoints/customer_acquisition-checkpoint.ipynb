{
 "cells": [
  {
   "cell_type": "markdown",
   "metadata": {},
   "source": [
    "# Customer Acquistion\n",
    "\n",
    "This notebook generates list of recommended outlets for each customer based on simillarity between customer transaction behavior. \n",
    "\n",
    "Input file:\n",
    "* File_Food_Choice: (keys: 'name_first', 'name_last', 'email', 'food_choice')\n",
    "\n",
    "Steps:\n",
    "- Import libraries & environment\n",
    "- Define constants\n",
    "- Main function\n",
    "    - Recommender System\n",
    "    - Example: recommendation for some customer"
   ]
  },
  {
   "cell_type": "markdown",
   "metadata": {},
   "source": [
    "Import libraries & environment"
   ]
  },
  {
   "cell_type": "code",
   "execution_count": 1,
   "metadata": {},
   "outputs": [],
   "source": [
    "# import external libraries\n",
    "\n",
    "import pandas as pd\n",
    "import numpy as np\n",
    "import random\n",
    "import yaml\n",
    "import os\n",
    "\n",
    "# load external libraries\n",
    "\n",
    "current_directory = os.getcwd()\n",
    "os.chdir('../src/')\n",
    "\n",
    "from utils.customer_acquisition_functions import CustomerAcquisition\n",
    "from utils.customer_acquisition_functions import RecommenderSystem\n",
    "\n",
    "os.chdir(current_directory)"
   ]
  },
  {
   "cell_type": "markdown",
   "metadata": {},
   "source": [
    "Define constants"
   ]
  },
  {
   "cell_type": "code",
   "execution_count": 2,
   "metadata": {},
   "outputs": [],
   "source": [
    "# load config file\n",
    "\n",
    "with open('..\\\\config\\\\config.yml', 'r', encoding='utf-8') as yml:\n",
    "    config = yaml.load(yml, Loader=yaml.SafeLoader)"
   ]
  },
  {
   "cell_type": "code",
   "execution_count": 3,
   "metadata": {},
   "outputs": [],
   "source": [
    "# constants\n",
    "\n",
    "NUM_CUST_SIM = config['Cust_Acq']['NUM_CUST_SIM'] # No. of smilar customers, for example we use X(=10) most similar customers\n",
    "NUM_FOOD_RECOMMENDED = config['Cust_Acq']['NUM_FOOD_RECOMMENDED'] # No. of recommended outlets\n",
    "\n",
    "\n",
    "# load data\n",
    "df_food_choice = pd.read_csv('..\\\\data\\\\'+config['File_Food_Choice'])\n",
    "\n",
    "# parameters\n",
    "num_transaction = df_food_choice.shape[0]\n",
    "num_cust = df_food_choice['email'].nunique()\n",
    "num_food = df_food_choice['food_choice'].nunique()\n",
    "list_food = list(df_food_choice['food_choice'].unique())\n",
    "arr_food = np.array(df_food_choice[['name_first', 'name_last', 'email', 'food_choice']])"
   ]
  },
  {
   "cell_type": "markdown",
   "metadata": {},
   "source": [
    "Main"
   ]
  },
  {
   "cell_type": "code",
   "execution_count": 12,
   "metadata": {},
   "outputs": [],
   "source": [
    "# Extract Data\n",
    "\n",
    "R = RecommenderSystem()\n",
    "\n",
    "# find similarirty score\n",
    "arr_similarity_score = R.similarity_score(input_arr_order_num_customer_bool = arr_order_num_customer_bool)"
   ]
  },
  {
   "cell_type": "code",
   "execution_count": null,
   "metadata": {},
   "outputs": [],
   "source": [
    "def main():\n",
    "    \n",
    "    F = CustomerAcquisition()\n",
    "    \n",
    "    # Extract Data\n",
    "    list_customer, list_customer_name_first, list_customer_name_last, \\\n",
    "    dict_cust_index, dict_cust_index_rev, dict_food_index, dict_food_index_rev, \\\n",
    "    arr_order_num_customer, arr_order_num_customer_bool = F.data_extraction(input_num_transaction = num_transaction, \n",
    "                                                                    input_num_cust = num_cust, \n",
    "                                                                    input_num_food = num_food,\n",
    "                                                                    input_arr_food = arr_food, \n",
    "                                                                    input_list_food = list_food)\n",
    "    \n",
    "    ############ model: recommender system\n",
    "    \n",
    "    R = RecommenderSystem()\n",
    "    \n",
    "    # find similarirty score\n",
    "    arr_similarity_score = R.similarity_score(input_arr_order_num_customer_bool = arr_order_num_customer_bool)\n",
    "    \n",
    "    # select similar customers for each customers, we select NUM_CUST_SIM = 10 most similar customers\n",
    "    list_similar_customer = R.select_similar_customers(input_num_cust_sim = NUM_CUST_SIM, input_num_cust = num_cust,\n",
    "                                                      input_arr_similarity_score = arr_similarity_score)\n",
    "    \n",
    "    # find expected visit for each store visited by similar customers\n",
    "    arr_exp_order = R.exp_visits(self, input_num_cust = num_cust, \n",
    "                                 input_num_food = num_food,\n",
    "                                 input_list_similar_customer = list_similar_customer,\n",
    "                                 input_arr_order_num_customer = arr_order_num_customer,\n",
    "                                 input_arr_similarity_score = arr_similarity_score)\n",
    "    \n",
    "    # find recommended outlet for each customer\n",
    "    arr_recommendation = R.recommendation(input_num_cust = num_cust, input_num_food_recommended = NUM_FOOD_RECOMMENDED,\n",
    "                                      input_arr_visit_customer_bool = arr_visit_customer_bool, input_num_outlet = num_outlet,\n",
    "                                      input_arr_exp_outlet = arr_exp_outlet)\n",
    "    recommendation(self, input_num_cust, , \n",
    "\t\t\tinput_arr_order_num_customer_bool, input_num_food, input_arr_exp_order)\n",
    "    \n",
    "    # save recommendation\n",
    "    R.recommendation_save(input_path = '..\\\\reports\\\\'+config['File_Recommendation'], input_file = arr_recommendation )\n",
    "    \n",
    "    ############ model: recommender system example\n",
    "\n",
    "    # some example to test recommendation for customer\n",
    "    idx_customer = random.randint(0,num_cust-1)\n",
    "    R.recommendation_example(input_idx_customer = idx_customer, input_list_customer_name_first = list_customer_name_first,\n",
    "                             input_list_customer_name_last = list_customer_name_last,\n",
    "                             input_arr_recommendation = arr_recommendation,\n",
    "                             input_dict_outlet_index_rev = dict_outlet_index_rev)\n",
    "    \tdef recommendation_example(self, input_idx_customer, input_list_customer_name_first,\n",
    "\t\t\t\t\t\t\t\tinput_list_customer_name_last, input_arr_recommendation,\n",
    "\t\t\t\t\t\t\t\tinput_dict_food_index_rev):\n"
   ]
  },
  {
   "cell_type": "code",
   "execution_count": null,
   "metadata": {},
   "outputs": [],
   "source": [
    "if __name__ == '__main__':\n",
    "    main()"
   ]
  }
 ],
 "metadata": {
  "kernelspec": {
   "display_name": "Python 3",
   "language": "python",
   "name": "python3"
  },
  "language_info": {
   "codemirror_mode": {
    "name": "ipython",
    "version": 3
   },
   "file_extension": ".py",
   "mimetype": "text/x-python",
   "name": "python",
   "nbconvert_exporter": "python",
   "pygments_lexer": "ipython3",
   "version": "3.6.2"
  }
 },
 "nbformat": 4,
 "nbformat_minor": 2
}
